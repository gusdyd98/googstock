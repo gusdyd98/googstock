{
 "cells": [
  {
   "cell_type": "markdown",
   "metadata": {},
   "source": [
    "#### Google 주가 확인하는 방법 (pandas의 DataReader 사용)"
   ]
  },
  {
   "cell_type": "code",
   "execution_count": 41,
   "metadata": {},
   "outputs": [],
   "source": [
    "import numpy as np\n",
    "import pandas as pd"
   ]
  },
  {
   "cell_type": "code",
   "execution_count": 42,
   "metadata": {},
   "outputs": [],
   "source": [
    "import pandas_datareader.data as web"
   ]
  },
  {
   "cell_type": "code",
   "execution_count": 43,
   "metadata": {},
   "outputs": [
    {
     "data": {
      "text/html": [
       "<div>\n",
       "<style scoped>\n",
       "    .dataframe tbody tr th:only-of-type {\n",
       "        vertical-align: middle;\n",
       "    }\n",
       "\n",
       "    .dataframe tbody tr th {\n",
       "        vertical-align: top;\n",
       "    }\n",
       "\n",
       "    .dataframe thead th {\n",
       "        text-align: right;\n",
       "    }\n",
       "</style>\n",
       "<table border=\"1\" class=\"dataframe\">\n",
       "  <thead>\n",
       "    <tr style=\"text-align: right;\">\n",
       "      <th></th>\n",
       "      <th>High</th>\n",
       "      <th>Low</th>\n",
       "      <th>Open</th>\n",
       "      <th>Close</th>\n",
       "      <th>Volume</th>\n",
       "      <th>Adj Close</th>\n",
       "    </tr>\n",
       "    <tr>\n",
       "      <th>Date</th>\n",
       "      <th></th>\n",
       "      <th></th>\n",
       "      <th></th>\n",
       "      <th></th>\n",
       "      <th></th>\n",
       "      <th></th>\n",
       "    </tr>\n",
       "  </thead>\n",
       "  <tbody>\n",
       "    <tr>\n",
       "      <td>2020-02-03</td>\n",
       "      <td>1490.000000</td>\n",
       "      <td>1458.989990</td>\n",
       "      <td>1462.000000</td>\n",
       "      <td>1485.939941</td>\n",
       "      <td>3055200</td>\n",
       "      <td>1485.939941</td>\n",
       "    </tr>\n",
       "    <tr>\n",
       "      <td>2020-02-04</td>\n",
       "      <td>1469.500000</td>\n",
       "      <td>1426.300049</td>\n",
       "      <td>1457.069946</td>\n",
       "      <td>1447.069946</td>\n",
       "      <td>3933000</td>\n",
       "      <td>1447.069946</td>\n",
       "    </tr>\n",
       "    <tr>\n",
       "      <td>2020-02-05</td>\n",
       "      <td>1463.839966</td>\n",
       "      <td>1430.560059</td>\n",
       "      <td>1462.420044</td>\n",
       "      <td>1448.229980</td>\n",
       "      <td>1986200</td>\n",
       "      <td>1448.229980</td>\n",
       "    </tr>\n",
       "    <tr>\n",
       "      <td>2020-02-06</td>\n",
       "      <td>1482.000000</td>\n",
       "      <td>1449.569946</td>\n",
       "      <td>1450.329956</td>\n",
       "      <td>1476.229980</td>\n",
       "      <td>1679400</td>\n",
       "      <td>1476.229980</td>\n",
       "    </tr>\n",
       "    <tr>\n",
       "      <td>2020-02-07</td>\n",
       "      <td>1485.839966</td>\n",
       "      <td>1466.349976</td>\n",
       "      <td>1467.300049</td>\n",
       "      <td>1479.229980</td>\n",
       "      <td>1171300</td>\n",
       "      <td>1479.229980</td>\n",
       "    </tr>\n",
       "  </tbody>\n",
       "</table>\n",
       "</div>"
      ],
      "text/plain": [
       "                   High          Low         Open        Close   Volume  \\\n",
       "Date                                                                      \n",
       "2020-02-03  1490.000000  1458.989990  1462.000000  1485.939941  3055200   \n",
       "2020-02-04  1469.500000  1426.300049  1457.069946  1447.069946  3933000   \n",
       "2020-02-05  1463.839966  1430.560059  1462.420044  1448.229980  1986200   \n",
       "2020-02-06  1482.000000  1449.569946  1450.329956  1476.229980  1679400   \n",
       "2020-02-07  1485.839966  1466.349976  1467.300049  1479.229980  1171300   \n",
       "\n",
       "              Adj Close  \n",
       "Date                     \n",
       "2020-02-03  1485.939941  \n",
       "2020-02-04  1447.069946  \n",
       "2020-02-05  1448.229980  \n",
       "2020-02-06  1476.229980  \n",
       "2020-02-07  1479.229980  "
      ]
     },
     "execution_count": 43,
     "metadata": {},
     "output_type": "execute_result"
    }
   ],
   "source": [
    "goog = web.DataReader('GOOG', data_source='yahoo', start='01/01/2019', end='02/07/2020')\n",
    "goog.tail()"
   ]
  },
  {
   "cell_type": "code",
   "execution_count": 45,
   "metadata": {},
   "outputs": [],
   "source": [
    "goog['Log_Ret']=np.log(goog['Close']/goog['Close'].shift(1))\n",
    "goog['Volatility']=np.std(goog['Log_Ret'])*np.sqrt(252)"
   ]
  },
  {
   "cell_type": "code",
   "execution_count": 46,
   "metadata": {},
   "outputs": [],
   "source": [
    "%matplotlib inline"
   ]
  },
  {
   "cell_type": "code",
   "execution_count": 47,
   "metadata": {},
   "outputs": [
    {
     "data": {
      "text/plain": [
       "array([<matplotlib.axes._subplots.AxesSubplot object at 0x00000236F4271348>,\n",
       "       <matplotlib.axes._subplots.AxesSubplot object at 0x00000236F40F9A88>],\n",
       "      dtype=object)"
      ]
     },
     "execution_count": 47,
     "metadata": {},
     "output_type": "execute_result"
    },
    {
     "data": {
      "image/png": "[encoded data removed]",
      "text/plain": [
       "<Figure size 576x432 with 2 Axes>"
      ]
     },
     "metadata": {
      "needs_background": "light"
     },
     "output_type": "display_data"
    }
   ],
   "source": [
    "goog[['Close', 'Volatility']].plot(subplots=True, color='blue', figsize=(8,6))"
   ]
  },
  {
   "cell_type": "code",
   "execution_count": null,
   "metadata": {},
   "outputs": [],
   "source": []
  }
 ],
 "metadata": {
  "kernelspec": {
   "display_name": "Python 3",
   "language": "python",
   "name": "python3"
  },
  "language_info": {
   "codemirror_mode": {
    "name": "ipython",
    "version": 3
   },
   "file_extension": ".py",
   "mimetype": "text/x-python",
   "name": "python",
   "nbconvert_exporter": "python",
   "pygments_lexer": "ipython3",
   "version": "3.7.4"
  }
 },
 "nbformat": 4,
 "nbformat_minor": 2
}
